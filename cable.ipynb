{
 "metadata": {
  "name": "",
  "signature": "sha256:011cb82c73d8da6ad7396ea2dfc149c9a95004d7d0774535d4694963a3a939e5"
 },
 "nbformat": 3,
 "nbformat_minor": 0,
 "worksheets": [
  {
   "cells": [
    {
     "cell_type": "heading",
     "level": 1,
     "metadata": {},
     "source": [
      "*\u0423\u043f\u0440\u043e\u0449\u0435\u043d\u043d\u0430\u044f \u043c\u043e\u0434\u0435\u043b\u044c \u043a\u0430\u0431\u0435\u043b\u044f (\u0437\u0430\u0433\u043b\u0443\u0448\u043a\u0430)"
     ]
    },
    {
     "cell_type": "heading",
     "level": 1,
     "metadata": {},
     "source": [
      "\u0417\u0430\u0432\u0438\u0441\u0438\u043c\u043e\u0441\u0442\u0438"
     ]
    },
    {
     "cell_type": "code",
     "collapsed": false,
     "input": [
      "import math\n",
      "import numpy"
     ],
     "language": "python",
     "metadata": {},
     "outputs": [],
     "prompt_number": 1
    },
    {
     "cell_type": "markdown",
     "metadata": {},
     "source": [
      "![\u041e\u0431\u0449\u0430\u044f \u0441\u0445\u0435\u043c\u0430 \u043a\u0430\u0431\u0435\u043b\u044f](http://pandia.ru/text/78/068/images/image002_135.gif)"
     ]
    },
    {
     "cell_type": "heading",
     "level": 1,
     "metadata": {},
     "source": [
      "\u041f\u0430\u0440\u0430\u043c\u0435\u0442\u0440\u044b"
     ]
    },
    {
     "cell_type": "code",
     "collapsed": false,
     "input": [
      "# \u0414\u043b\u0438\u043d\u0430 \u043a\u0430\u0431\u0435\u043b\u044f\n",
      "LEN = 5*1000\n",
      "\n",
      "print \"\u0414\u043b\u0438\u043d\u0430 \u043a\u0430\u0431\u0435\u043b\u044f = {0}\u043a\u043c\".format(LEN/1000)\n",
      "\n",
      "# \u0423\u0434\u0435\u043b\u044c\u043d\u043e\u0435 \u0437\u0430\u0442\u0443\u0445\u0430\u043d\u0438\u0435\n",
      "ATTm = 0.001\n",
      "# \u0417\u0430\u0442\u0443\u0445\u0430\u043d\u0438\u0435\n",
      "ATT = LEN*ATTm\n",
      "\n",
      "print \"\u0423\u0434\u0435\u043b\u044c\u043d\u043e\u0435 \u0437\u0430\u0442\u0443\u0445\u0430\u043d\u0438\u0435 = {0}\u0414\u0431/\u043c\".format(ATTm)\n",
      "print \"\u0417\u0430\u0442\u0443\u0445\u0430\u043d\u0438\u0435 = {0}\u0414\u0431\".format(ATT)\n",
      "\n",
      "# \u0410\u043c\u043f\u043b\u0438\u0442\u0443\u0434\u0430 \u0448\u0443\u043c\u0430\n",
      "NOISE_A = 0.01\n",
      "\n",
      "print \"\u0410\u043c\u043f\u043b\u0438\u0442\u0443\u0434\u0430 \u0448\u0443\u043c\u0430 = {0}\".format(NOISE_A)"
     ],
     "language": "python",
     "metadata": {},
     "outputs": [
      {
       "output_type": "stream",
       "stream": "stdout",
       "text": [
        "\u0414\u043b\u0438\u043d\u0430 \u043a\u0430\u0431\u0435\u043b\u044f = 5\u043a\u043c\n",
        "\u0423\u0434\u0435\u043b\u044c\u043d\u043e\u0435 \u0437\u0430\u0442\u0443\u0445\u0430\u043d\u0438\u0435 = 0.001\u0414\u0431/\u043c\n",
        "\u0417\u0430\u0442\u0443\u0445\u0430\u043d\u0438\u0435 = 5.0\u0414\u0431\n",
        "\u0410\u043c\u043f\u043b\u0438\u0442\u0443\u0434\u0430 \u0448\u0443\u043c\u0430 = 0.01\n"
       ]
      }
     ],
     "prompt_number": 2
    },
    {
     "cell_type": "heading",
     "level": 1,
     "metadata": {},
     "source": [
      "\u0424\u0443\u043d\u043a\u0446\u0438\u044f \u043a\u0430\u0431\u0435\u043b\u044f"
     ]
    },
    {
     "cell_type": "code",
     "collapsed": false,
     "input": [
      "\"\"\"\n",
      "@signal - \u0441\u0438\u0433\u043d\u0430\u043b\n",
      "return - (\u0441\u043f\u0438\u0441\u043e\u043a \u0447\u0430\u0441\u0442\u043e\u0442, \u0441\u043f\u0438\u0441\u043e\u043a \u0430\u043c\u043f\u043b\u0438\u0442\u0443\u0434)\n",
      "\"\"\"\n",
      "def cable(signal):\n",
      "    k = 10**(ATT/10)\n",
      "    return (1.0/k)*(signal + noise(len(signal)))\n",
      "\n",
      "\"\"\"\n",
      "\u0411\u0435\u043b\u044b\u0439 \u0448\u0443\u043c\n",
      "@n - \u043a\u043e\u043b-\u0432\u043e \u043e\u0442\u0441\u0447\u0451\u0442\u043e\u0432\n",
      "@amp - \u0430\u043c\u043f\u043b\u0438\u0442\u0443\u0434\u0430\n",
      "\"\"\"\n",
      "def noise(n, amp=NOISE_A):\n",
      "    return amp*(2*numpy.random.random(n) - 1)"
     ],
     "language": "python",
     "metadata": {},
     "outputs": [],
     "prompt_number": 5
    }
   ],
   "metadata": {}
  }
 ]
}