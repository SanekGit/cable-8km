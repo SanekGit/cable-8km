{
 "metadata": {
  "name": "",
  "signature": "sha256:b2cc14b1b9c6b1b1944fba1285660ebeab9465db0a2242f711100b1f18de68f1"
 },
 "nbformat": 3,
 "nbformat_minor": 0,
 "worksheets": [
  {
   "cells": [
    {
     "cell_type": "heading",
     "level": 1,
     "metadata": {},
     "source": [
      "\u0417\u0430\u0432\u0438\u0441\u0438\u043c\u043e\u0441\u0442\u0438"
     ]
    },
    {
     "cell_type": "code",
     "collapsed": false,
     "input": [
      "import math\n",
      "import numpy\n",
      "%matplotlib inline\n",
      "import matplotlib.pyplot as pyplot"
     ],
     "language": "python",
     "metadata": {},
     "outputs": [],
     "prompt_number": 7
    },
    {
     "cell_type": "heading",
     "level": 1,
     "metadata": {},
     "source": [
      "\u041e\u0431\u0449\u0438\u0435 \u0444\u0443\u043d\u043a\u0446\u0438\u0438"
     ]
    },
    {
     "cell_type": "code",
     "collapsed": false,
     "input": [
      "def avg(array):\n",
      "    return sum(array)/float(len(array))\n",
      "\n",
      "\"\"\"\n",
      "\u041f\u0440\u0435\u043e\u0431\u0440\u0430\u0437\u0443\u0435\u0442 \u043f\u043e\u0441\u043b\u0435\u0434\u043e\u0432\u0430\u0442\u0435\u043b\u044c\u043d\u043e\u0441\u0442\u044c \u0431\u0438\u0442 \u0432 \u0443\u0440\u043e\u0432\u0435\u043d\u044c \u043e\u0442 -amp \u0434\u043e amp\n",
      "@bit_seq - \u043f\u043e\u0441\u043b\u0435\u0434\u043e\u0432\u0430\u0442\u0435\u043b\u044c\u043d\u043e\u0441\u0442\u044c \u0431\u0438\u0442\n",
      "@amp - \u0430\u043c\u043f\u043b\u0438\u0442\u0443\u0434\u0430 \u043c\u043e\u0434\u0443\u043b\u044f\u0446\u0438\u0438\n",
      "return - \u0443\u0440\u043e\u0432\u0435\u043d\u044c \u043e\u0442 -amp \u0434\u043e amp\n",
      "\"\"\"\n",
      "def bit_seq_to_level(bit_seq, amp):\n",
      "    num = sum(map(lambda (i, x): x * 2**i, zip(xrange(len(bit_seq)), bit_seq)))\n",
      "    max_num = 2**len(bit_seq) - 1\n",
      "    return -amp*(1.0 - 2.0*num/max_num)\n",
      "\n",
      "\"\"\"\n",
      "\u041e\u0431\u0440\u0430\u0442\u043d\u0430\u044f \u043a @ref bit_seq_to_level \u0444\u0443\u043d\u043a\u0446\u0438\u044f\n",
      "return - \u0431\u043b\u0438\u0436\u0430\u0439\u0448\u0438\u0439 \u0443\u0440\u043e\u0432\u0435\u043d\u044c\n",
      "\"\"\"\n",
      "def level_to_bit_seq(level, bit_count, amp):\n",
      "    levels = numpy.linspace(-amp, amp, 2**bit_count)\n",
      "    closest_level_index = abs(levels - level).argmin()\n",
      "    max_num = 2**bit_count - 1\n",
      "    num = int(round((levels[closest_level_index]/amp + 1.0)*max_num/2.0))\n",
      "    return [(num >> i) & 1 for i in xrange(bit_count)]\n",
      "\n",
      "\"\"\"\n",
      "@signal - \u0438\u0441\u0445\u043e\u0434\u043d\u044b\u0439 \u0441\u0438\u0433\u043d\u0430\u043b\n",
      "@scale - \u043a\u043e\u043b-\u0432\u043e \u043e\u0442\u0441\u0447\u0451\u0442\u043e\u0432 \u043e\u0442\u043c\u0430\u0441\u0448\u0442\u0430\u0431\u0438\u0440\u043e\u0432\u0430\u043d\u043d\u043e\u0433\u043e/\u0438\u043d\u0442\u0435\u0440\u043f\u043e\u043b\u0438\u0440\u043e\u0432\u0430\u043d\u043d\u043e\u0433\u043e \u0441\u0438\u0433\u043d\u0430\u043b\u0430 \u043d\u0430 \u043e\u0434\u0438\u043d \u043e\u0442\u0441\u0447\u0451\u0442 \u0438\u0441\u0445\u043e\u0434\u043d\u043e\u0433\u043e\n",
      "return - \u043e\u0442\u043c\u0430\u0441\u0448\u0442\u0430\u0431\u0438\u0440\u043e\u0432\u0430\u043d\u043d\u044b\u0439/\u0438\u043d\u0442\u0435\u0440\u043f\u043e\u043b\u0438\u0440\u043e\u0432\u0430\u043d\u043d\u044b\u0439 \u0441\u0438\u0433\u043d\u0430\u043b\n",
      "\"\"\"\n",
      "def scale_signal(signal, scale):\n",
      "   return numpy.array([signal[i//scale] for i in xrange(scale*len(signal))])\n",
      "\n",
      "\"\"\"\n",
      "\u041e\u0431\u0440\u0430\u0442\u043d\u0430\u044f \u043a @ref scale_signal \u0444\u0443\u043d\u043a\u0446\u0438\u044f\n",
      "\"\"\"\n",
      "def unscale_signal(signal, scale):\n",
      "    return numpy.array([avg(signal[i*scale:(i+1)*scale]) for i in xrange(len(signal)//scale)])\n",
      "\n",
      "\"\"\"\n",
      "\u0412\u044b\u0447\u0438\u0441\u043b\u044f\u0435\u0442 \u0410\u0427\u0425 \u0441\u0438\u0433\u043d\u0430\u043b\u0430\n",
      "@signal - \u0441\u0438\u0433\u043d\u0430\u043b\n",
      "@sampling_freq - \u0447\u0430\u0441\u0442\u043e\u0442\u0430 \u0434\u0438\u0441\u043a\u0440\u0435\u0442\u0438\u0437\u0430\u0446\u0438\u0438\n",
      "return - (\u0441\u043f\u0438\u0441\u043e\u043a \u0447\u0430\u0441\u0442\u043e\u0442, \u0441\u043f\u0438\u0441\u043e\u043a \u0430\u043c\u043f\u043b\u0438\u0442\u0443\u0434)\n",
      "\"\"\"\n",
      "def compute_signal_afc(signal, sampling_freq):\n",
      "    sampling_period = 1.0/sampling_freq\n",
      "    t = numpy.linspace(0, len(signal)*sampling_period, len(signal))\n",
      "    afc = 2*abs(numpy.fft.fft(signal)[0:len(t)//2])/len(t)\n",
      "    freq = numpy.fft.fftfreq(len(t))[0:len(t)//2]*sampling_freq\n",
      "    return (freq, afc)"
     ],
     "language": "python",
     "metadata": {},
     "outputs": [],
     "prompt_number": 8
    },
    {
     "cell_type": "code",
     "collapsed": false,
     "input": [
      "\"\"\"\n",
      "\u0426\u0435\u043d\u0442\u0440\u0443\u0435\u0442 \u0442\u043e\u0447\u043a\u0443 \u043e\u0442\u0441\u0447\u0451\u0442\u0430 \u043f\u0440\u0438 \u043f\u043e\u0441\u0442\u0440\u043e\u0435\u043d\u0438\u0438 \u0433\u0440\u0430\u0444\u0438\u043a\u043e\u0432\n",
      "\"\"\"\n",
      "def center_plot_axis(center=(0, 0)):\n",
      "    gca = pyplot.gca()\n",
      "    gca.spines[\"left\"].set_position((\"data\", center[0]))\n",
      "    gca.spines[\"bottom\"].set_position((\"data\", center[1]))\n",
      "    gca.spines[\"right\"].set_position((\"data\", center[0]))\n",
      "    gca.spines[\"top\"].set_position((\"data\", center[1]))"
     ],
     "language": "python",
     "metadata": {},
     "outputs": [],
     "prompt_number": 9
    }
   ],
   "metadata": {}
  }
 ]
}